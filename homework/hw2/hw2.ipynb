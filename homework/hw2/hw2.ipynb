{
 "cells": [
  {
   "cell_type": "markdown",
   "metadata": {},
   "source": [
    "# Homework 2 - Bolun Zhang"
   ]
  },
  {
   "cell_type": "markdown",
   "metadata": {},
   "source": [
    "## Question 1 You believe that interest rates will rise. Accordingly, you"
   ]
  },
  {
   "cell_type": "markdown",
   "metadata": {},
   "source": [
    "### A. Buy a December Eurodollar futures - False\n",
    "How the Eurodollar futures contract works\n",
    "For example, if on a particular day an investor buys a single three-month contract at 95.00 (implied settlement LIBOR of 5.00%):\n",
    "\n",
    "if at the close of business on that day, the contract price has risen to 95.01 (implying a LIBOR decrease to 4.99%), US\\\\$25 will be paid into the investor's margin account; or\n",
    "if at the close of business on that day, the contract price has fallen to 94.99 (implying a LIBOR increase to 5.01%), US\\\\$25 will be deducted from the investor's margin account.\n",
    "\n",
    "Therefore, an invester who long the future would want the LIBOR rate to decrease. Now I expect the LIBOR rate to increase, which mean I would not want to buy the future."
   ]
  },
  {
   "cell_type": "markdown",
   "metadata": {},
   "source": [
    "### B. Sell a December Eurodollar futures - True\n",
    "Similar to above, I would want to sell the future because I bet the rate goes up and the price goes down."
   ]
  },
  {
   "cell_type": "markdown",
   "metadata": {},
   "source": [
    "### C. Pay fixed on a 5-year swap - True\n",
    "If I believe the interest rates will rise, I believe the floating leg rate of a swap will rise. Therefore, I would rather pay the fixed leg and receive the floating leg payment."
   ]
  },
  {
   "cell_type": "markdown",
   "metadata": {},
   "source": [
    "### D. Receive fixed on a 5-year swap - False\n",
    "Similar to C, I believe the floating rate will rise. Then, I would not want to receive fixed payment and pay the floating rate."
   ]
  },
  {
   "cell_type": "markdown",
   "metadata": {},
   "source": [
    "## Question 2 Consider a FRA in which you will borrow money for 6 months on December 20, 2019 (T) based on the 3-month LIBOR rate:"
   ]
  },
  {
   "cell_type": "code",
   "execution_count": null,
   "metadata": {},
   "outputs": [],
   "source": []
  }
 ],
 "metadata": {
  "kernelspec": {
   "display_name": "Python 3",
   "language": "python",
   "name": "python3"
  },
  "language_info": {
   "codemirror_mode": {
    "name": "ipython",
    "version": 3
   },
   "file_extension": ".py",
   "mimetype": "text/x-python",
   "name": "python",
   "nbconvert_exporter": "python",
   "pygments_lexer": "ipython3",
   "version": "3.7.4"
  }
 },
 "nbformat": 4,
 "nbformat_minor": 2
}
